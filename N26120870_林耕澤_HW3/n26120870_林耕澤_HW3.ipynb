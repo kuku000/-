{
  "cells": [
    {
      "cell_type": "code",
      "execution_count": null,
      "metadata": {
        "execution": {
          "iopub.execute_input": "2023-11-30T08:23:36.667563Z",
          "iopub.status.busy": "2023-11-30T08:23:36.667043Z",
          "iopub.status.idle": "2023-11-30T08:23:36.672908Z",
          "shell.execute_reply": "2023-11-30T08:23:36.671857Z",
          "shell.execute_reply.started": "2023-11-30T08:23:36.667522Z"
        },
        "id": "1WmBgme2ok8u"
      },
      "outputs": [],
      "source": [
        "#from google.colab import drive\n",
        "#drive.mount('/content/drive')"
      ]
    },
    {
      "cell_type": "code",
      "execution_count": 1,
      "metadata": {
        "execution": {
          "iopub.execute_input": "2023-11-30T08:23:36.675722Z",
          "iopub.status.busy": "2023-11-30T08:23:36.675203Z",
          "iopub.status.idle": "2023-11-30T08:23:50.726508Z",
          "shell.execute_reply": "2023-11-30T08:23:50.725402Z",
          "shell.execute_reply.started": "2023-11-30T08:23:36.675669Z"
        },
        "id": "Cue18N20otKS"
      },
      "outputs": [],
      "source": [
        "import matplotlib.pyplot as plt\n",
        "import os\n",
        "import numpy as np\n",
        "import tensorflow as tf\n",
        "import cv2\n",
        "import tensorflow_datasets as tfds\n",
        "import tensorflow.keras.layers as layers\n",
        "from tensorflow.keras.preprocessing.image import ImageDataGenerator\n",
        "import pandas as pd\n",
        "from tqdm import tqdm,trange"
      ]
    },
    {
      "cell_type": "code",
      "execution_count": 5,
      "metadata": {
        "execution": {
          "iopub.execute_input": "2023-11-30T08:23:50.728479Z",
          "iopub.status.busy": "2023-11-30T08:23:50.727902Z",
          "iopub.status.idle": "2023-11-30T08:23:50.733193Z",
          "shell.execute_reply": "2023-11-30T08:23:50.732110Z",
          "shell.execute_reply.started": "2023-11-30T08:23:50.728449Z"
        },
        "id": "PXABNsjhov4I",
        "colab": {
          "base_uri": "https://localhost:8080/"
        },
        "outputId": "506b0a87-e49e-4397-86e0-99cfe6ce9f2d"
      },
      "outputs": [
        {
          "output_type": "stream",
          "name": "stdout",
          "text": [
            "Mounted at /content/drive\n"
          ]
        }
      ],
      "source": [
        "from google.colab import drive\n",
        "drive.mount('/content/drive')\n",
        "dirpath='/content/drive/MyDrive/HW3/stanford_dogs/'"
      ]
    },
    {
      "cell_type": "code",
      "execution_count": 6,
      "metadata": {
        "execution": {
          "iopub.execute_input": "2023-11-30T08:23:50.736579Z",
          "iopub.status.busy": "2023-11-30T08:23:50.736187Z",
          "iopub.status.idle": "2023-11-30T08:23:50.772617Z",
          "shell.execute_reply": "2023-11-30T08:23:50.770900Z",
          "shell.execute_reply.started": "2023-11-30T08:23:50.736543Z"
        },
        "id": "jT88OyNYoyEo"
      },
      "outputs": [],
      "source": [
        "imgSize = (224,224)\n",
        "imgShape = (224,224,3)\n",
        "batchSize = 64"
      ]
    },
    {
      "cell_type": "code",
      "execution_count": null,
      "metadata": {
        "id": "_EqgbSKh8UzO"
      },
      "outputs": [],
      "source": []
    },
    {
      "cell_type": "code",
      "execution_count": 7,
      "metadata": {
        "execution": {
          "iopub.execute_input": "2023-11-30T08:23:50.774898Z",
          "iopub.status.busy": "2023-11-30T08:23:50.774521Z",
          "iopub.status.idle": "2023-11-30T08:23:56.720704Z",
          "shell.execute_reply": "2023-11-30T08:23:56.719563Z",
          "shell.execute_reply.started": "2023-11-30T08:23:50.774864Z"
        },
        "id": "H0lg4TWfoy4P",
        "colab": {
          "base_uri": "https://localhost:8080/"
        },
        "outputId": "9a7f305f-52d0-47f7-e543-6053f37d2746"
      },
      "outputs": [
        {
          "output_type": "stream",
          "name": "stdout",
          "text": [
            "Found 8400 images belonging to 120 classes.\n",
            "Found 3600 images belonging to 120 classes.\n",
            "Found 8580 images belonging to 1 classes.\n"
          ]
        }
      ],
      "source": [
        "trainDataGenerator = ImageDataGenerator(rescale = 1./255,\n",
        "                      # augmentation\n",
        "                      rotation_range = 40,\n",
        "                      shear_range = 0.3,\n",
        "                      #zoom_range = 0.2,\n",
        "                      horizontal_flip=True,\n",
        "                      #vertical_flip=True,\n",
        "                      validation_split=0.3)\n",
        "valDataGenerator = ImageDataGenerator(rescale=1./255,validation_split=0.3)\n",
        "\n",
        "\n",
        "trainBatch = trainDataGenerator.flow_from_directory(\n",
        "    directory = dirpath+'train',\n",
        "    target_size = imgSize,\n",
        "    class_mode = 'categorical',\n",
        "    shuffle = True,\n",
        "    batch_size = batchSize,\n",
        "    subset='training'\n",
        ")\n",
        "\n",
        "valBatch = valDataGenerator.flow_from_directory(\n",
        "    directory = dirpath+'train',\n",
        "    target_size = imgSize,\n",
        "    class_mode = 'categorical',\n",
        "    shuffle = True,\n",
        "    batch_size = batchSize,\n",
        "    subset='validation'\n",
        ")\n",
        "\n",
        "# test generator\n",
        "testDataGenerator = ImageDataGenerator(rescale=1/255)\n",
        "\n",
        "testBatch = testDataGenerator.flow_from_directory(\n",
        "    dirpath,\n",
        "    class_mode=None,\n",
        "    batch_size=batchSize,\n",
        "    target_size= imgSize,\n",
        "    shuffle = False,\n",
        "    classes=['test']\n",
        ")\n"
      ]
    },
    {
      "cell_type": "code",
      "execution_count": 8,
      "metadata": {
        "execution": {
          "iopub.execute_input": "2023-11-30T08:23:56.722176Z",
          "iopub.status.busy": "2023-11-30T08:23:56.721874Z",
          "iopub.status.idle": "2023-11-30T08:23:56.729383Z",
          "shell.execute_reply": "2023-11-30T08:23:56.728287Z",
          "shell.execute_reply.started": "2023-11-30T08:23:56.722151Z"
        },
        "id": "ljupGbkVpHVR"
      },
      "outputs": [],
      "source": [
        "from tensorflow.keras.applications import InceptionResNetV2, Xception\n",
        "from tensorflow.keras.layers import GlobalAveragePooling2D, Dense, concatenate, Input\n",
        "from tensorflow.keras.models import Model"
      ]
    },
    {
      "cell_type": "code",
      "execution_count": 9,
      "metadata": {
        "execution": {
          "iopub.execute_input": "2023-11-30T08:23:56.731530Z",
          "iopub.status.busy": "2023-11-30T08:23:56.731127Z",
          "iopub.status.idle": "2023-11-30T08:25:01.090400Z",
          "shell.execute_reply": "2023-11-30T08:25:01.089401Z",
          "shell.execute_reply.started": "2023-11-30T08:23:56.731496Z"
        },
        "id": "PDXka7nPpTRf",
        "colab": {
          "base_uri": "https://localhost:8080/"
        },
        "outputId": "718c1213-2650-4131-87d2-bf0c82a56a07"
      },
      "outputs": [
        {
          "output_type": "stream",
          "name": "stdout",
          "text": [
            "Downloading data from https://storage.googleapis.com/tensorflow/keras-applications/inception_resnet_v2/inception_resnet_v2_weights_tf_dim_ordering_tf_kernels_notop.h5\n",
            "219055592/219055592 [==============================] - 6s 0us/step\n",
            "Downloading data from https://storage.googleapis.com/tensorflow/keras-applications/xception/xception_weights_tf_dim_ordering_tf_kernels_notop.h5\n",
            "83683744/83683744 [==============================] - 3s 0us/step\n",
            "Downloading data from https://storage.googleapis.com/tensorflow/keras-applications/efficientnet_v2/efficientnetv2-l_notop.h5\n",
            "473176280/473176280 [==============================] - 14s 0us/step\n",
            "Downloading data from https://storage.googleapis.com/tensorflow/keras-applications/nasnet/NASNet-large-no-top.h5\n",
            "343610240/343610240 [==============================] - 10s 0us/step\n",
            "Downloading data from https://storage.googleapis.com/tensorflow/keras-applications/convnext/convnext_large_notop.h5\n",
            "785596384/785596384 [==============================] - 27s 0us/step\n"
          ]
        }
      ],
      "source": [
        "base_model1 = tf.keras.applications.InceptionResNetV2(\n",
        "    include_top=False,\n",
        "    weights=\"imagenet\",\n",
        "    input_tensor=None,\n",
        "    input_shape=(224, 224, 3),\n",
        ")\n",
        "base_model2 = tf.keras.applications.Xception(\n",
        "    include_top=False,\n",
        "    weights=\"imagenet\",\n",
        "    input_tensor=None,\n",
        "    input_shape=(224, 224, 3),\n",
        ")\n",
        "base_model3 = tf.keras.applications.EfficientNetV2L(\n",
        "    include_top=False,\n",
        "    weights=\"imagenet\",\n",
        "    input_tensor=None,\n",
        "    input_shape=(224, 224, 3),\n",
        "    include_preprocessing=False\n",
        "\n",
        ")\n",
        "base_model4 = tf.keras.applications.NASNetLarge(\n",
        "    include_top=False,\n",
        "    weights=\"imagenet\",\n",
        "    input_tensor=None,\n",
        "    input_shape=(224, 224, 3),\n",
        "\n",
        ")\n",
        "base_model5 = tf.keras.applications.ConvNeXtLarge(\n",
        "    include_top=False,\n",
        "    weights=\"imagenet\",\n",
        "    input_tensor=None,\n",
        "    input_shape=(224, 224, 3),\n",
        "    include_preprocessing=False\n",
        "\n",
        ")\n",
        "\n",
        "input1 = Input(shape=(224, 224, 3), name='input_1')\n",
        "\n",
        "inception_resnet_output = GlobalAveragePooling2D()(base_model1(input1))\n",
        "xception_output = GlobalAveragePooling2D()(base_model2(input1))\n",
        "EfficientNetV2M_output = GlobalAveragePooling2D()(base_model3(input1))\n",
        "NASNetLarge_output = GlobalAveragePooling2D()(base_model4(input1))\n",
        "ConvNeXtLarge_output = GlobalAveragePooling2D()(base_model5(input1))\n",
        "\n",
        "merged = concatenate([inception_resnet_output, xception_output, EfficientNetV2M_output, NASNetLarge_output, ConvNeXtLarge_output])\n",
        "x = layers.BatchNormalization()(merged)\n",
        "x = layers.Dense(1024, activation = 'relu')(x)\n",
        "x = layers.Dropout(0.5)(x)\n",
        "x = layers.BatchNormalization()(x)\n",
        "output_layer = layers.Dense(units = 120, activation = 'softmax')(x)\n",
        "# freeze the weight\n",
        "base_model1.trainable = False\n",
        "base_model2.trainable = False\n",
        "base_model3.trainable = False\n",
        "base_model4.trainable = False\n",
        "base_model5.trainable = False\n",
        "\n",
        "combined_model = Model(inputs= input1, outputs=output_layer)"
      ]
    },
    {
      "cell_type": "code",
      "execution_count": 10,
      "metadata": {
        "execution": {
          "iopub.execute_input": "2023-11-30T08:25:01.092053Z",
          "iopub.status.busy": "2023-11-30T08:25:01.091721Z",
          "iopub.status.idle": "2023-11-30T08:25:01.097203Z",
          "shell.execute_reply": "2023-11-30T08:25:01.096197Z",
          "shell.execute_reply.started": "2023-11-30T08:25:01.092025Z"
        },
        "id": "kNi4rgxwwdVz",
        "colab": {
          "base_uri": "https://localhost:8080/"
        },
        "outputId": "b16560a0-c5c9-4d11-cd5b-8b145d68e1bc"
      },
      "outputs": [
        {
          "output_type": "stream",
          "name": "stdout",
          "text": [
            "(None, 224, 224, 3)\n"
          ]
        }
      ],
      "source": [
        "print(input1.shape)"
      ]
    },
    {
      "cell_type": "code",
      "execution_count": 11,
      "metadata": {
        "execution": {
          "iopub.execute_input": "2023-11-30T08:25:01.098831Z",
          "iopub.status.busy": "2023-11-30T08:25:01.098547Z",
          "iopub.status.idle": "2023-11-30T08:25:09.365339Z",
          "shell.execute_reply": "2023-11-30T08:25:09.364305Z",
          "shell.execute_reply.started": "2023-11-30T08:25:01.098806Z"
        },
        "id": "fh_EPrSvwmrC",
        "colab": {
          "base_uri": "https://localhost:8080/"
        },
        "outputId": "4d3bc313-edc8-4ced-c84b-191ee023a018"
      },
      "outputs": [
        {
          "output_type": "stream",
          "name": "stdout",
          "text": [
            "Model: \"model_1\"\n",
            "__________________________________________________________________________________________________\n",
            " Layer (type)                Output Shape                 Param #   Connected to                  \n",
            "==================================================================================================\n",
            " input_1 (InputLayer)        [(None, 224, 224, 3)]        0         []                            \n",
            "                                                                                                  \n",
            " inception_resnet_v2 (Funct  (None, 5, 5, 1536)           5433673   ['input_1[0][0]']             \n",
            " ional)                                                   6                                       \n",
            "                                                                                                  \n",
            " xception (Functional)       (None, 7, 7, 2048)           2086148   ['input_1[0][0]']             \n",
            "                                                          0                                       \n",
            "                                                                                                  \n",
            " efficientnetv2-l (Function  (None, 7, 7, 1280)           1177468   ['input_1[0][0]']             \n",
            " al)                                                      48                                      \n",
            "                                                                                                  \n",
            " NASNet (Functional)         (None, 7, 7, 4032)           8491681   ['input_1[0][0]']             \n",
            "                                                          8                                       \n",
            "                                                                                                  \n",
            " convnext_large (Functional  (None, 7, 7, 1536)           1962303   ['input_1[0][0]']             \n",
            " )                                                        36                                      \n",
            "                                                                                                  \n",
            " global_average_pooling2d_5  (None, 1536)                 0         ['inception_resnet_v2[1][0]'] \n",
            "  (GlobalAveragePooling2D)                                                                        \n",
            "                                                                                                  \n",
            " global_average_pooling2d_6  (None, 2048)                 0         ['xception[1][0]']            \n",
            "  (GlobalAveragePooling2D)                                                                        \n",
            "                                                                                                  \n",
            " global_average_pooling2d_7  (None, 1280)                 0         ['efficientnetv2-l[1][0]']    \n",
            "  (GlobalAveragePooling2D)                                                                        \n",
            "                                                                                                  \n",
            " global_average_pooling2d_8  (None, 4032)                 0         ['NASNet[1][0]']              \n",
            "  (GlobalAveragePooling2D)                                                                        \n",
            "                                                                                                  \n",
            " global_average_pooling2d_9  (None, 1536)                 0         ['convnext_large[1][0]']      \n",
            "  (GlobalAveragePooling2D)                                                                        \n",
            "                                                                                                  \n",
            " concatenate_5 (Concatenate  (None, 10432)                0         ['global_average_pooling2d_5[0\n",
            " )                                                                  ][0]',                        \n",
            "                                                                     'global_average_pooling2d_6[0\n",
            "                                                                    ][0]',                        \n",
            "                                                                     'global_average_pooling2d_7[0\n",
            "                                                                    ][0]',                        \n",
            "                                                                     'global_average_pooling2d_8[0\n",
            "                                                                    ][0]',                        \n",
            "                                                                     'global_average_pooling2d_9[0\n",
            "                                                                    ][0]']                        \n",
            "                                                                                                  \n",
            " batch_normalization_209 (B  (None, 10432)                41728     ['concatenate_5[0][0]']       \n",
            " atchNormalization)                                                                               \n",
            "                                                                                                  \n",
            " dense_2 (Dense)             (None, 1024)                 1068339   ['batch_normalization_209[0][0\n",
            "                                                          2         ]']                           \n",
            "                                                                                                  \n",
            " dropout_1 (Dropout)         (None, 1024)                 0         ['dense_2[0][0]']             \n",
            "                                                                                                  \n",
            " batch_normalization_210 (B  (None, 1024)                 4096      ['dropout_1[0][0]']           \n",
            " atchNormalization)                                                                               \n",
            "                                                                                                  \n",
            " dense_3 (Dense)             (None, 120)                  123000    ['batch_normalization_210[0][0\n",
            "                                                                    ]']                           \n",
            "                                                                                                  \n",
            "==================================================================================================\n",
            "Total params: 484944434 (1.81 GB)\n",
            "Trainable params: 10829304 (41.31 MB)\n",
            "Non-trainable params: 474115130 (1.77 GB)\n",
            "__________________________________________________________________________________________________\n"
          ]
        }
      ],
      "source": [
        "from keras.models import Sequential\n",
        "from keras.layers import Input, BatchNormalization, Dropout\n",
        "from tensorflow.keras.applications import InceptionResNetV2, Xception\n",
        "from tensorflow.keras.layers import GlobalAveragePooling2D, Dense, concatenate\n",
        "from tensorflow.keras.models import Model\n",
        "# Define input layer\n",
        "input1 = Input(shape=(224, 224, 3), name='input_1')\n",
        "\n",
        "# Create the first base model\n",
        "x1 = base_model1(input1)\n",
        "x1 = GlobalAveragePooling2D()(x1)\n",
        "\n",
        "# Create the second base model\n",
        "x2 = base_model2(input1)\n",
        "x2 = GlobalAveragePooling2D()(x2)\n",
        "\n",
        "x3 = base_model3(input1)\n",
        "x3 = GlobalAveragePooling2D()(x3)\n",
        "\n",
        "x4 = base_model4(input1)\n",
        "x4 = GlobalAveragePooling2D()(x4)\n",
        "\n",
        "x5 = base_model5(input1)\n",
        "x5 = GlobalAveragePooling2D()(x5)\n",
        "\n",
        "concatenated = concatenate([x1, x2, x3, x4, x5])\n",
        "\n",
        "x = BatchNormalization()(concatenated)\n",
        "\n",
        "x = Dense(1024, activation='relu')(x)\n",
        "\n",
        "x = Dropout(0.5)(x)\n",
        "\n",
        "x = BatchNormalization()(x)\n",
        "\n",
        "output_layer = Dense(units=120, activation='softmax')(x)\n",
        "\n",
        "sequential_model = Model(input1, outputs=output_layer)\n",
        "\n",
        "sequential_model.summary()"
      ]
    },
    {
      "cell_type": "code",
      "execution_count": null,
      "metadata": {
        "execution": {
          "iopub.execute_input": "2023-11-30T08:25:09.368690Z",
          "iopub.status.busy": "2023-11-30T08:25:09.368295Z",
          "iopub.status.idle": "2023-11-30T08:25:09.455050Z",
          "shell.execute_reply": "2023-11-30T08:25:09.454153Z",
          "shell.execute_reply.started": "2023-11-30T08:25:09.368662Z"
        },
        "id": "h-vJkaG22e-6"
      },
      "outputs": [],
      "source": [
        "import warnings\n",
        "warnings.filterwarnings('ignore')\n",
        "from tensorflow.keras.optimizers import Adam, Nadam\n",
        "from tensorflow.keras.callbacks import EarlyStopping, LearningRateScheduler\n",
        "import math\n",
        "\n",
        "def lr_decay(epoch):\n",
        "    initial_lr = 0.01\n",
        "    decay_factor = 0.1\n",
        "    decay_epochs = 6\n",
        "    lrate = initial_lr * math.pow(decay_factor, math.floor((1 + epoch) / decay_epochs))\n",
        "    return lrate\n",
        "early_stopping = EarlyStopping(monitor = 'val_loss', patience = 8)\n",
        "\n",
        "lr_scheduler = LearningRateScheduler(lr_decay)\n",
        "\n",
        "combined_model.compile(optimizer = Nadam(), loss='categorical_crossentropy', metrics=['accuracy'])\n",
        "#model.compile(optimizer = Adam(), loss='categorical_crossentropy', metrics=['accuracy'])"
      ]
    },
    {
      "cell_type": "code",
      "execution_count": null,
      "metadata": {
        "execution": {
          "iopub.execute_input": "2023-11-30T08:25:09.456501Z",
          "iopub.status.busy": "2023-11-30T08:25:09.456198Z",
          "iopub.status.idle": "2023-11-30T08:25:09.461426Z",
          "shell.execute_reply": "2023-11-30T08:25:09.460342Z",
          "shell.execute_reply.started": "2023-11-30T08:25:09.456475Z"
        },
        "id": "bSSRT29n2xug"
      },
      "outputs": [],
      "source": [
        "from keras.callbacks import ModelCheckpoint\n",
        "checkpointer = ModelCheckpoint(filepath=\"/content/drive/MyDrive/HW3/model_concat5.h5\", verbose=1, save_best_only=True)"
      ]
    },
    {
      "cell_type": "code",
      "execution_count": null,
      "metadata": {
        "execution": {
          "iopub.execute_input": "2023-11-30T08:25:09.463059Z",
          "iopub.status.busy": "2023-11-30T08:25:09.462791Z",
          "iopub.status.idle": "2023-11-30T08:25:09.478265Z",
          "shell.execute_reply": "2023-11-30T08:25:09.477278Z",
          "shell.execute_reply.started": "2023-11-30T08:25:09.463036Z"
        },
        "id": "exCnuyPm8UzS",
        "outputId": "338aace2-f3e2-4412-fc99-394ef24dee49"
      },
      "outputs": [
        {
          "name": "stdout",
          "output_type": "stream",
          "text": [
            "KerasTensor(type_spec=TensorSpec(shape=(None, 224, 224, 3), dtype=tf.float32, name='input_1'), name='input_1', description=\"created by layer 'input_1'\")\n"
          ]
        }
      ],
      "source": [
        "print(combined_model.input)"
      ]
    },
    {
      "cell_type": "code",
      "execution_count": null,
      "metadata": {
        "execution": {
          "iopub.execute_input": "2023-11-30T08:25:09.480291Z",
          "iopub.status.busy": "2023-11-30T08:25:09.479660Z",
          "iopub.status.idle": "2023-11-30T12:06:28.708387Z",
          "shell.execute_reply": "2023-11-30T12:06:28.707310Z",
          "shell.execute_reply.started": "2023-11-30T08:25:09.480254Z"
        },
        "id": "M1khNJHs211b",
        "outputId": "9edaf296-b735-4f1c-d181-5df6950c3f9f"
      },
      "outputs": [
        {
          "name": "stdout",
          "output_type": "stream",
          "text": [
            "Epoch 1/50\n"
          ]
        },
        {
          "name": "stderr",
          "output_type": "stream",
          "text": [
            "2023-11-30 08:26:29.983442: E tensorflow/core/grappler/optimizers/meta_optimizer.cc:954] layout failed: INVALID_ARGUMENT: Size of values 0 does not match size of permutation 4 @ fanin shape inmodel/efficientnetv2-l/block1b_drop/dropout/SelectV2-2-TransposeNHWCToNCHW-LayoutOptimizer\n"
          ]
        },
        {
          "name": "stdout",
          "output_type": "stream",
          "text": [
            "131/131 [==============================] - ETA: 0s - loss: 1.1869 - accuracy: 0.7790\n",
            "Epoch 1: val_loss improved from inf to 0.57120, saving model to /kaggle/working/model_concat5.h5\n",
            "131/131 [==============================] - 549s 3s/step - loss: 1.1869 - accuracy: 0.7790 - val_loss: 0.5712 - val_accuracy: 0.8870 - lr: 0.0100\n",
            "Epoch 2/50\n",
            "131/131 [==============================] - ETA: 0s - loss: 0.8330 - accuracy: 0.8534\n",
            "Epoch 2: val_loss improved from 0.57120 to 0.55243, saving model to /kaggle/working/model_concat5.h5\n",
            "131/131 [==============================] - 416s 3s/step - loss: 0.8330 - accuracy: 0.8534 - val_loss: 0.5524 - val_accuracy: 0.9007 - lr: 0.0100\n",
            "Epoch 3/50\n",
            "131/131 [==============================] - ETA: 0s - loss: 0.6267 - accuracy: 0.8767\n",
            "Epoch 3: val_loss did not improve from 0.55243\n",
            "131/131 [==============================] - 408s 3s/step - loss: 0.6267 - accuracy: 0.8767 - val_loss: 0.5593 - val_accuracy: 0.9076 - lr: 0.0100\n",
            "Epoch 4/50\n",
            "131/131 [==============================] - ETA: 0s - loss: 0.5162 - accuracy: 0.8880\n",
            "Epoch 4: val_loss improved from 0.55243 to 0.49619, saving model to /kaggle/working/model_concat5.h5\n",
            "131/131 [==============================] - 416s 3s/step - loss: 0.5162 - accuracy: 0.8880 - val_loss: 0.4962 - val_accuracy: 0.9132 - lr: 0.0100\n",
            "Epoch 5/50\n",
            "131/131 [==============================] - ETA: 0s - loss: 0.4313 - accuracy: 0.8979\n",
            "Epoch 5: val_loss improved from 0.49619 to 0.43662, saving model to /kaggle/working/model_concat5.h5\n",
            "131/131 [==============================] - 416s 3s/step - loss: 0.4313 - accuracy: 0.8979 - val_loss: 0.4366 - val_accuracy: 0.9205 - lr: 0.0100\n",
            "Epoch 6/50\n",
            "131/131 [==============================] - ETA: 0s - loss: 0.2846 - accuracy: 0.9247\n",
            "Epoch 6: val_loss improved from 0.43662 to 0.36931, saving model to /kaggle/working/model_concat5.h5\n",
            "131/131 [==============================] - 417s 3s/step - loss: 0.2846 - accuracy: 0.9247 - val_loss: 0.3693 - val_accuracy: 0.9289 - lr: 0.0010\n",
            "Epoch 7/50\n",
            "131/131 [==============================] - ETA: 0s - loss: 0.2460 - accuracy: 0.9307\n",
            "Epoch 7: val_loss improved from 0.36931 to 0.36232, saving model to /kaggle/working/model_concat5.h5\n",
            "131/131 [==============================] - 416s 3s/step - loss: 0.2460 - accuracy: 0.9307 - val_loss: 0.3623 - val_accuracy: 0.9275 - lr: 0.0010\n",
            "Epoch 8/50\n",
            "131/131 [==============================] - ETA: 0s - loss: 0.2178 - accuracy: 0.9350\n",
            "Epoch 8: val_loss did not improve from 0.36232\n",
            "131/131 [==============================] - 407s 3s/step - loss: 0.2178 - accuracy: 0.9350 - val_loss: 0.3643 - val_accuracy: 0.9269 - lr: 0.0010\n",
            "Epoch 9/50\n",
            "131/131 [==============================] - ETA: 0s - loss: 0.2187 - accuracy: 0.9364\n",
            "Epoch 9: val_loss improved from 0.36232 to 0.35525, saving model to /kaggle/working/model_concat5.h5\n",
            "131/131 [==============================] - 415s 3s/step - loss: 0.2187 - accuracy: 0.9364 - val_loss: 0.3552 - val_accuracy: 0.9300 - lr: 0.0010\n",
            "Epoch 10/50\n",
            "131/131 [==============================] - ETA: 0s - loss: 0.1992 - accuracy: 0.9397\n",
            "Epoch 10: val_loss improved from 0.35525 to 0.34441, saving model to /kaggle/working/model_concat5.h5\n",
            "131/131 [==============================] - 415s 3s/step - loss: 0.1992 - accuracy: 0.9397 - val_loss: 0.3444 - val_accuracy: 0.9275 - lr: 0.0010\n",
            "Epoch 11/50\n",
            "131/131 [==============================] - ETA: 0s - loss: 0.1925 - accuracy: 0.9392\n",
            "Epoch 11: val_loss did not improve from 0.34441\n",
            "131/131 [==============================] - 407s 3s/step - loss: 0.1925 - accuracy: 0.9392 - val_loss: 0.3466 - val_accuracy: 0.9291 - lr: 0.0010\n",
            "Epoch 12/50\n",
            "131/131 [==============================] - ETA: 0s - loss: 0.1728 - accuracy: 0.9467\n",
            "Epoch 12: val_loss improved from 0.34441 to 0.34303, saving model to /kaggle/working/model_concat5.h5\n",
            "131/131 [==============================] - 415s 3s/step - loss: 0.1728 - accuracy: 0.9467 - val_loss: 0.3430 - val_accuracy: 0.9289 - lr: 1.0000e-04\n",
            "Epoch 13/50\n",
            "131/131 [==============================] - ETA: 0s - loss: 0.1727 - accuracy: 0.9437\n",
            "Epoch 13: val_loss did not improve from 0.34303\n",
            "131/131 [==============================] - 407s 3s/step - loss: 0.1727 - accuracy: 0.9437 - val_loss: 0.3467 - val_accuracy: 0.9277 - lr: 1.0000e-04\n",
            "Epoch 14/50\n",
            "131/131 [==============================] - ETA: 0s - loss: 0.1760 - accuracy: 0.9447\n",
            "Epoch 14: val_loss did not improve from 0.34303\n",
            "131/131 [==============================] - 407s 3s/step - loss: 0.1760 - accuracy: 0.9447 - val_loss: 0.3458 - val_accuracy: 0.9280 - lr: 1.0000e-04\n",
            "Epoch 15/50\n",
            "131/131 [==============================] - ETA: 0s - loss: 0.1649 - accuracy: 0.9475\n",
            "Epoch 15: val_loss did not improve from 0.34303\n",
            "131/131 [==============================] - 406s 3s/step - loss: 0.1649 - accuracy: 0.9475 - val_loss: 0.3448 - val_accuracy: 0.9275 - lr: 1.0000e-04\n",
            "Epoch 16/50\n",
            "131/131 [==============================] - ETA: 0s - loss: 0.1727 - accuracy: 0.9490\n",
            "Epoch 16: val_loss did not improve from 0.34303\n",
            "131/131 [==============================] - 406s 3s/step - loss: 0.1727 - accuracy: 0.9490 - val_loss: 0.3440 - val_accuracy: 0.9289 - lr: 1.0000e-04\n",
            "Epoch 17/50\n",
            "131/131 [==============================] - ETA: 0s - loss: 0.1710 - accuracy: 0.9460\n",
            "Epoch 17: val_loss did not improve from 0.34303\n",
            "131/131 [==============================] - 406s 3s/step - loss: 0.1710 - accuracy: 0.9460 - val_loss: 0.3441 - val_accuracy: 0.9275 - lr: 1.0000e-04\n",
            "Epoch 18/50\n",
            "131/131 [==============================] - ETA: 0s - loss: 0.1651 - accuracy: 0.9471\n",
            "Epoch 18: val_loss did not improve from 0.34303\n",
            "131/131 [==============================] - 406s 3s/step - loss: 0.1651 - accuracy: 0.9471 - val_loss: 0.3438 - val_accuracy: 0.9286 - lr: 1.0000e-05\n",
            "Epoch 19/50\n",
            "131/131 [==============================] - ETA: 0s - loss: 0.1602 - accuracy: 0.9473\n",
            "Epoch 19: val_loss did not improve from 0.34303\n",
            "131/131 [==============================] - 407s 3s/step - loss: 0.1602 - accuracy: 0.9473 - val_loss: 0.3441 - val_accuracy: 0.9280 - lr: 1.0000e-05\n",
            "Epoch 20/50\n",
            "131/131 [==============================] - ETA: 0s - loss: 0.1647 - accuracy: 0.9478\n",
            "Epoch 20: val_loss improved from 0.34303 to 0.34202, saving model to /kaggle/working/model_concat5.h5\n",
            "131/131 [==============================] - 415s 3s/step - loss: 0.1647 - accuracy: 0.9478 - val_loss: 0.3420 - val_accuracy: 0.9291 - lr: 1.0000e-05\n",
            "Epoch 21/50\n",
            "131/131 [==============================] - ETA: 0s - loss: 0.1700 - accuracy: 0.9461\n",
            "Epoch 21: val_loss did not improve from 0.34202\n",
            "131/131 [==============================] - 406s 3s/step - loss: 0.1700 - accuracy: 0.9461 - val_loss: 0.3437 - val_accuracy: 0.9286 - lr: 1.0000e-05\n",
            "Epoch 22/50\n",
            "131/131 [==============================] - ETA: 0s - loss: 0.1688 - accuracy: 0.9466\n",
            "Epoch 22: val_loss did not improve from 0.34202\n",
            "131/131 [==============================] - 406s 3s/step - loss: 0.1688 - accuracy: 0.9466 - val_loss: 0.3442 - val_accuracy: 0.9283 - lr: 1.0000e-05\n",
            "Epoch 23/50\n",
            "131/131 [==============================] - ETA: 0s - loss: 0.1639 - accuracy: 0.9471\n",
            "Epoch 23: val_loss did not improve from 0.34202\n",
            "131/131 [==============================] - 407s 3s/step - loss: 0.1639 - accuracy: 0.9471 - val_loss: 0.3438 - val_accuracy: 0.9291 - lr: 1.0000e-05\n",
            "Epoch 24/50\n",
            "131/131 [==============================] - ETA: 0s - loss: 0.1587 - accuracy: 0.9499\n",
            "Epoch 24: val_loss improved from 0.34202 to 0.33723, saving model to /kaggle/working/model_concat5.h5\n",
            "131/131 [==============================] - 414s 3s/step - loss: 0.1587 - accuracy: 0.9499 - val_loss: 0.3372 - val_accuracy: 0.9297 - lr: 1.0000e-06\n",
            "Epoch 25/50\n",
            "131/131 [==============================] - ETA: 0s - loss: 0.1695 - accuracy: 0.9476\n",
            "Epoch 25: val_loss did not improve from 0.33723\n",
            "131/131 [==============================] - 407s 3s/step - loss: 0.1695 - accuracy: 0.9476 - val_loss: 0.3438 - val_accuracy: 0.9291 - lr: 1.0000e-06\n",
            "Epoch 26/50\n",
            "131/131 [==============================] - ETA: 0s - loss: 0.1561 - accuracy: 0.9478\n",
            "Epoch 26: val_loss did not improve from 0.33723\n",
            "131/131 [==============================] - 406s 3s/step - loss: 0.1561 - accuracy: 0.9478 - val_loss: 0.3382 - val_accuracy: 0.9294 - lr: 1.0000e-06\n",
            "Epoch 27/50\n",
            "131/131 [==============================] - ETA: 0s - loss: 0.1679 - accuracy: 0.9479\n",
            "Epoch 27: val_loss did not improve from 0.33723\n",
            "131/131 [==============================] - 406s 3s/step - loss: 0.1679 - accuracy: 0.9479 - val_loss: 0.3422 - val_accuracy: 0.9294 - lr: 1.0000e-06\n",
            "Epoch 28/50\n",
            "131/131 [==============================] - ETA: 0s - loss: 0.1653 - accuracy: 0.9481\n",
            "Epoch 28: val_loss did not improve from 0.33723\n",
            "131/131 [==============================] - 406s 3s/step - loss: 0.1653 - accuracy: 0.9481 - val_loss: 0.3409 - val_accuracy: 0.9294 - lr: 1.0000e-06\n",
            "Epoch 29/50\n",
            "131/131 [==============================] - ETA: 0s - loss: 0.1638 - accuracy: 0.9454\n",
            "Epoch 29: val_loss did not improve from 0.33723\n",
            "131/131 [==============================] - 406s 3s/step - loss: 0.1638 - accuracy: 0.9454 - val_loss: 0.3424 - val_accuracy: 0.9289 - lr: 1.0000e-06\n",
            "Epoch 30/50\n",
            "131/131 [==============================] - ETA: 0s - loss: 0.1753 - accuracy: 0.9451\n",
            "Epoch 30: val_loss did not improve from 0.33723\n",
            "131/131 [==============================] - 407s 3s/step - loss: 0.1753 - accuracy: 0.9451 - val_loss: 0.3421 - val_accuracy: 0.9291 - lr: 1.0000e-07\n",
            "Epoch 31/50\n",
            "131/131 [==============================] - ETA: 0s - loss: 0.1612 - accuracy: 0.9465\n",
            "Epoch 31: val_loss did not improve from 0.33723\n",
            "131/131 [==============================] - 407s 3s/step - loss: 0.1612 - accuracy: 0.9465 - val_loss: 0.3431 - val_accuracy: 0.9291 - lr: 1.0000e-07\n",
            "Epoch 32/50\n",
            "131/131 [==============================] - ETA: 0s - loss: 0.1571 - accuracy: 0.9506\n",
            "Epoch 32: val_loss did not improve from 0.33723\n",
            "131/131 [==============================] - 407s 3s/step - loss: 0.1571 - accuracy: 0.9506 - val_loss: 0.3438 - val_accuracy: 0.9289 - lr: 1.0000e-07\n"
          ]
        }
      ],
      "source": [
        "import numpy as np\n",
        "epoch=50\n",
        "\n",
        "\n",
        "\n",
        "\n",
        "\n",
        "history = combined_model.fit(\n",
        "   trainBatch,\n",
        "    steps_per_epoch=trainBatch.samples // batchSize,\n",
        "    validation_data=valBatch,\n",
        "    validation_steps=valBatch.samples // batchSize,\n",
        "    epochs=epoch,\n",
        "    callbacks=[early_stopping, lr_scheduler, checkpointer]\n",
        ")"
      ]
    },
    {
      "cell_type": "markdown",
      "metadata": {
        "id": "8hiJFNBm28OD"
      },
      "source": [
        "show the loss & accuracy curve"
      ]
    },
    {
      "cell_type": "code",
      "execution_count": null,
      "metadata": {
        "execution": {
          "iopub.execute_input": "2023-11-30T12:06:28.710871Z",
          "iopub.status.busy": "2023-11-30T12:06:28.710115Z",
          "iopub.status.idle": "2023-11-30T12:06:29.239787Z",
          "shell.execute_reply": "2023-11-30T12:06:29.238615Z",
          "shell.execute_reply.started": "2023-11-30T12:06:28.710831Z"
        },
        "id": "tf3tw-FQ27Aq",
        "outputId": "ecad70f9-dc43-4931-98b9-3dd779ce9a1c"
      },
      "outputs": [
        {
          "data": {
            "image/png": "[encoded data removed]",
            "text/plain": [
              "<Figure size 640x480 with 1 Axes>"
            ]
          },
          "metadata": {},
          "output_type": "display_data"
        },
        {
          "data": {
            "image/png": "[encoded data removed]",
            "text/plain": [
              "<Figure size 640x480 with 1 Axes>"
            ]
          },
          "metadata": {},
          "output_type": "display_data"
        }
      ],
      "source": [
        "plt.plot(history.history['loss'],label='loss')\n",
        "plt.plot(history.history['val_loss'],label='val_loss')\n",
        "plt.title('loss curve')\n",
        "plt.ylabel('loss')\n",
        "plt.legend()\n",
        "plt.show()\n",
        "plt.plot(history.history['accuracy'],label='accuracy')\n",
        "plt.plot(history.history['val_accuracy'],label='val_accuracy')\n",
        "plt.title('accuracy curve')\n",
        "plt.ylabel('accuracy')\n",
        "plt.legend()\n",
        "plt.show()"
      ]
    },
    {
      "cell_type": "markdown",
      "metadata": {
        "id": "_wnNVUr03Alx"
      },
      "source": [
        "predict test data"
      ]
    },
    {
      "cell_type": "code",
      "execution_count": null,
      "metadata": {
        "id": "CiWogd_P8UzU"
      },
      "outputs": [],
      "source": []
    },
    {
      "cell_type": "code",
      "execution_count": null,
      "metadata": {
        "execution": {
          "iopub.execute_input": "2023-11-30T12:45:07.212965Z",
          "iopub.status.busy": "2023-11-30T12:45:07.212563Z",
          "iopub.status.idle": "2023-11-30T12:50:26.997838Z",
          "shell.execute_reply": "2023-11-30T12:50:26.996748Z",
          "shell.execute_reply.started": "2023-11-30T12:45:07.212937Z"
        },
        "id": "wLpIQdLv2_Fx",
        "outputId": "4a772100-955d-4318-90b1-fc8f7c08f7e9"
      },
      "outputs": [
        {
          "name": "stdout",
          "output_type": "stream",
          "text": [
            "135/135 [==============================] - 319s 2s/step\n"
          ]
        },
        {
          "data": {
            "text/plain": [
              "array([[2.24360683e-05, 2.33559124e-03, 1.01785258e-06, ...,\n",
              "        1.82055237e-06, 9.96828167e-05, 2.81814573e-06],\n",
              "       [9.59016894e-11, 1.00000000e+00, 2.95371236e-12, ...,\n",
              "        5.97140718e-13, 1.01005496e-10, 3.61966984e-11],\n",
              "       [2.07983941e-09, 9.98499061e-09, 5.82120574e-09, ...,\n",
              "        3.04126641e-10, 2.51667776e-09, 8.10673839e-09],\n",
              "       ...,\n",
              "       [2.22017582e-09, 1.20271001e-10, 2.54937849e-10, ...,\n",
              "        5.89072080e-09, 3.46986528e-09, 1.15829195e-08],\n",
              "       [5.09524298e-11, 4.66713057e-11, 2.84921475e-10, ...,\n",
              "        1.46467283e-11, 7.38568859e-11, 8.37055078e-11],\n",
              "       [7.08976611e-09, 9.12174727e-08, 2.27999095e-08, ...,\n",
              "        1.53748658e-09, 9.44188017e-09, 1.93712367e-07]], dtype=float32)"
            ]
          },
          "execution_count": 17,
          "metadata": {},
          "output_type": "execute_result"
        }
      ],
      "source": [
        "from keras.models import load_model\n",
        "from keras.preprocessing import image\n",
        "import numpy as np\n",
        "prediction = combined_model.predict(testBatch)\n",
        "prediction"
      ]
    },
    {
      "cell_type": "code",
      "execution_count": null,
      "metadata": {
        "id": "yBE1zHzj8UzV"
      },
      "outputs": [],
      "source": []
    },
    {
      "cell_type": "code",
      "execution_count": null,
      "metadata": {
        "execution": {
          "iopub.execute_input": "2023-11-30T12:50:27.000011Z",
          "iopub.status.busy": "2023-11-30T12:50:26.999671Z",
          "iopub.status.idle": "2023-11-30T12:50:27.043667Z",
          "shell.execute_reply": "2023-11-30T12:50:27.042848Z",
          "shell.execute_reply.started": "2023-11-30T12:50:26.999984Z"
        },
        "id": "aG-qQtMR3EK6"
      },
      "outputs": [],
      "source": [
        "prediction_label=prediction.argmax(axis=1)\n",
        "filename=testBatch.filenames\n",
        "outputdf=pd.DataFrame()\n",
        "outputdf['Name']=filename\n",
        "outputdf['Label']=prediction_label\n",
        "outputdf.to_csv('/content/drive/MyDrive/HW3/prediction_concat5.csv',index=False)"
      ]
    }
  ],
  "metadata": {
    "accelerator": "GPU",
    "colab": {
      "gpuType": "T4",
      "provenance": []
    },
    "kaggle": {
      "accelerator": "none",
      "dataSources": [
        {
          "databundleVersionId": 5613552,
          "sourceId": 52298,
          "sourceType": "competition"
        }
      ],
      "dockerImageVersionId": 30588,
      "isGpuEnabled": false,
      "isInternetEnabled": true,
      "language": "python",
      "sourceType": "notebook"
    },
    "kernelspec": {
      "display_name": "Python 3 (ipykernel)",
      "language": "python",
      "name": "python3"
    },
    "language_info": {
      "codemirror_mode": {
        "name": "ipython",
        "version": 3
      },
      "file_extension": ".py",
      "mimetype": "text/x-python",
      "name": "python",
      "nbconvert_exporter": "python",
      "pygments_lexer": "ipython3",
      "version": "3.9.18"
    }
  },
  "nbformat": 4,
  "nbformat_minor": 0
}